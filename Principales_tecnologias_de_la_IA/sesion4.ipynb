{
  "cells": [
    {
      "cell_type": "markdown",
      "metadata": {
        "id": "view-in-github",
        "colab_type": "text"
      },
      "source": [
        "<a href=\"https://colab.research.google.com/github/FrogyKing/MBAIA/blob/main/Principales_tecnologias_de_la_IA/sesion4.ipynb\" target=\"_parent\"><img src=\"https://colab.research.google.com/assets/colab-badge.svg\" alt=\"Open In Colab\"/></a>"
      ]
    },
    {
      "metadata": {
        "id": "e17af2590bc0f2d"
      },
      "cell_type": "markdown",
      "source": [
        "# Tarea NLP"
      ],
      "id": "e17af2590bc0f2d"
    },
    {
      "cell_type": "markdown",
      "source": [
        "# Alumno: Luis Gonzalez Alvarez"
      ],
      "metadata": {
        "id": "Av0m87g6mDPN"
      },
      "id": "Av0m87g6mDPN"
    },
    {
      "cell_type": "markdown",
      "source": [
        "El archivo \"conocimientos.json\" que contiene las preguntas y respuestas se encuentra en el repo de Github donde desarrollé la tarea.\n",
        "https://github.com/FrogyKing/MBAIA/tree/0c2158662c7b6fab8ca3d46886ba72c1cf74ff07/Principales_tecnologias_de_la_IA"
      ],
      "metadata": {
        "id": "csq0giqsmJjW"
      },
      "id": "csq0giqsmJjW"
    },
    {
      "cell_type": "code",
      "id": "initial_id",
      "metadata": {
        "collapsed": true,
        "ExecuteTime": {
          "end_time": "2025-10-08T05:36:00.779858Z",
          "start_time": "2025-10-08T05:35:59.299896Z"
        },
        "id": "initial_id"
      },
      "source": [
        "import json\n",
        "from sklearn.feature_extraction.text import TfidfVectorizer\n",
        "from sklearn.metrics.pairwise import cosine_similarity"
      ],
      "outputs": [],
      "execution_count": 1
    },
    {
      "metadata": {
        "ExecuteTime": {
          "end_time": "2025-10-08T05:46:09.664718Z",
          "start_time": "2025-10-08T05:46:09.643889Z"
        },
        "id": "603f8f943a01bc14"
      },
      "cell_type": "code",
      "source": [
        "with open(\"conocimientos.json\", \"r\", encoding=\"utf-8\") as f:\n",
        "    data = json.load(f)"
      ],
      "id": "603f8f943a01bc14",
      "outputs": [],
      "execution_count": 2
    },
    {
      "metadata": {
        "ExecuteTime": {
          "end_time": "2025-10-08T05:46:10.853089Z",
          "start_time": "2025-10-08T05:46:10.829543Z"
        },
        "id": "bd312ce258d719a4"
      },
      "cell_type": "code",
      "source": [
        "preguntas = [item[\"pregunta\"] for item in data]\n",
        "respuestas = [item[\"respuesta\"] for item in data]"
      ],
      "id": "bd312ce258d719a4",
      "outputs": [],
      "execution_count": 3
    },
    {
      "metadata": {
        "ExecuteTime": {
          "end_time": "2025-10-08T05:46:11.924495Z",
          "start_time": "2025-10-08T05:46:11.907512Z"
        },
        "id": "458cffa981ab883b"
      },
      "cell_type": "code",
      "source": [
        "vectorizador = TfidfVectorizer()\n",
        "X = vectorizador.fit_transform(preguntas)"
      ],
      "id": "458cffa981ab883b",
      "outputs": [],
      "execution_count": 4
    },
    {
      "metadata": {
        "ExecuteTime": {
          "end_time": "2025-10-08T05:46:13.487148Z",
          "start_time": "2025-10-08T05:46:13.473299Z"
        },
        "id": "6e8b8e3da1e35b60"
      },
      "cell_type": "code",
      "source": [
        "def responder(pregunta_usuario):\n",
        "    vector_usuario = vectorizador.transform([pregunta_usuario])\n",
        "    similitudes = cosine_similarity(vector_usuario, X)\n",
        "    idx = similitudes.argmax()\n",
        " # Umbral de confianza\n",
        "    if similitudes[0, idx] < 0.2:\n",
        "        return \"Lo siento, solo puedo responder preguntas de Historia del Perú.\"\n",
        "    return respuestas[idx]"
      ],
      "id": "6e8b8e3da1e35b60",
      "outputs": [],
      "execution_count": 50
    },
    {
      "metadata": {
        "id": "9221e35208e1cdc0"
      },
      "cell_type": "markdown",
      "source": [
        "# P1: Ampliar dataset"
      ],
      "id": "9221e35208e1cdc0"
    },
    {
      "metadata": {
        "id": "8a5984084d4d0eee"
      },
      "cell_type": "markdown",
      "source": [
        "El dataset se amplió con 100 preguntas y respuestas en total"
      ],
      "id": "8a5984084d4d0eee"
    },
    {
      "metadata": {
        "ExecuteTime": {
          "end_time": "2025-10-08T05:47:49.489242Z",
          "start_time": "2025-10-08T05:47:49.471740Z"
        },
        "colab": {
          "base_uri": "https://localhost:8080/"
        },
        "id": "9024875a1927abaf",
        "outputId": "2e42c501-15b0-43de-8410-c30d1da2830e"
      },
      "cell_type": "code",
      "source": [
        "len(data)"
      ],
      "id": "9024875a1927abaf",
      "outputs": [
        {
          "output_type": "execute_result",
          "data": {
            "text/plain": [
              "100"
            ]
          },
          "metadata": {},
          "execution_count": 6
        }
      ],
      "execution_count": 6
    },
    {
      "metadata": {
        "id": "e2ebb747445c035d"
      },
      "cell_type": "markdown",
      "source": [
        "# P2: Probar con preguntas ambiguas o mal escritas"
      ],
      "id": "e2ebb747445c035d"
    },
    {
      "cell_type": "markdown",
      "source": [
        "## Sin preprocesamiento"
      ],
      "metadata": {
        "id": "SF6zr0TufGY_"
      },
      "id": "SF6zr0TufGY_"
    },
    {
      "metadata": {
        "id": "5a478ad4b096696"
      },
      "cell_type": "markdown",
      "source": [
        "### Ejemplo 1"
      ],
      "id": "5a478ad4b096696"
    },
    {
      "metadata": {
        "ExecuteTime": {
          "end_time": "2025-10-08T05:49:51.260980Z",
          "start_time": "2025-10-08T05:49:51.239371Z"
        },
        "colab": {
          "base_uri": "https://localhost:8080/"
        },
        "id": "9e2fc63b6516d842",
        "outputId": "c394b22a-3b8a-4e1c-bd9d-37bafe27267c"
      },
      "cell_type": "code",
      "source": [
        "q_correcta = \"Cuando fue la independencia del peru\"\n",
        "q_incorrecta = \"Cuando fue la independensia del peru\"\n",
        "print(\"Versión correcta\")\n",
        "print(responder(q_correcta))\n",
        "print(\"Versión incorrecta\")\n",
        "print(responder(q_incorrecta))"
      ],
      "id": "9e2fc63b6516d842",
      "outputs": [
        {
          "output_type": "stream",
          "name": "stdout",
          "text": [
            "Versión correcta\n",
            "La independencia del Perú fue proclamada por José de San Martín el 28 de julio de 1821.\n",
            "Versión incorrecta\n",
            "La esclavitud fue abolida en el Perú el 3 de diciembre de 1854 por el presidente Ramón Castilla.\n"
          ]
        }
      ],
      "execution_count": 51
    },
    {
      "metadata": {
        "id": "fbd169a6410dd4dc"
      },
      "cell_type": "markdown",
      "source": [
        "### Ejemplo 2"
      ],
      "id": "fbd169a6410dd4dc"
    },
    {
      "metadata": {
        "ExecuteTime": {
          "end_time": "2025-10-08T05:51:54.079337Z",
          "start_time": "2025-10-08T05:51:54.059200Z"
        },
        "colab": {
          "base_uri": "https://localhost:8080/"
        },
        "id": "3b82a4d2305b754f",
        "outputId": "fe9e9c82-94e7-4bff-e14f-7cd76fa1319c"
      },
      "cell_type": "code",
      "source": [
        "q_correcta = \"Quien fue bolognesi\"\n",
        "q_incorrecta = \"Quien fue bologneci\"\n",
        "print(\"Versión correcta\")\n",
        "print(responder(q_correcta))\n",
        "print(\"Versión incorrecta\")\n",
        "print(responder(q_incorrecta))"
      ],
      "id": "3b82a4d2305b754f",
      "outputs": [
        {
          "output_type": "stream",
          "name": "stdout",
          "text": [
            "Versión correcta\n",
            "Francisco Bolognesi fue un héroe nacional que defendió Arica en 1880 diciendo: 'Tengo deberes sagrados que cumplir'.\n",
            "Versión incorrecta\n",
            "Atahualpa fue el último emperador inca, capturado y ejecutado por los conquistadores españoles en 1533.\n"
          ]
        }
      ],
      "execution_count": 52
    },
    {
      "metadata": {
        "id": "5a2d5d5eb68b45bf"
      },
      "cell_type": "markdown",
      "source": [
        "Los respuestas son muy sensibles a errores ortograficos debido a que TFidVectorizer trabaja solo con coincidencias exactas de palabras.\n",
        "\n",
        "Se podría corregir con un corrector ortográfico o usando embedding semánticos"
      ],
      "id": "5a2d5d5eb68b45bf"
    },
    {
      "metadata": {
        "id": "45eec7b1d5fb4cd3"
      },
      "cell_type": "markdown",
      "source": [
        "## Con preprocesamiento usando embeddings"
      ],
      "id": "45eec7b1d5fb4cd3"
    },
    {
      "metadata": {
        "colab": {
          "base_uri": "https://localhost:8080/"
        },
        "id": "83545d13d9ec9f4d",
        "outputId": "1ec19451-a6cf-4591-b374-81aa1a112a08"
      },
      "cell_type": "code",
      "outputs": [
        {
          "metadata": {
            "tags": null
          },
          "name": "stdout",
          "output_type": "stream",
          "text": [
            "\u001b[?25l   \u001b[90m━━━━━━━━━━━━━━━━━━━━━━━━━━━━━━━━━━━━━━━━\u001b[0m \u001b[32m0.0/42.0 kB\u001b[0m \u001b[31m?\u001b[0m eta \u001b[36m-:--:--\u001b[0m\r\u001b[2K   \u001b[90m━━━━━━━━━━━━━━━━━━━━━━━━━━━━━━━━━━━━━━━━\u001b[0m \u001b[32m42.0/42.0 kB\u001b[0m \u001b[31m1.3 MB/s\u001b[0m eta \u001b[36m0:00:00\u001b[0m\n",
            "\u001b[?25h"
          ]
        }
      ],
      "execution_count": 11,
      "source": [
        "%pip install -q --upgrade google-generativeai langchain-google-genai"
      ],
      "id": "83545d13d9ec9f4d"
    },
    {
      "cell_type": "code",
      "source": [
        "%pip install faiss-cpu"
      ],
      "metadata": {
        "colab": {
          "base_uri": "https://localhost:8080/"
        },
        "id": "Nx1EjQYMcBBP",
        "outputId": "6a729f4f-de76-40b2-f47a-e3002eaf6e3a"
      },
      "id": "Nx1EjQYMcBBP",
      "execution_count": 28,
      "outputs": [
        {
          "output_type": "stream",
          "name": "stdout",
          "text": [
            "Collecting faiss-cpu\n",
            "  Downloading faiss_cpu-1.12.0-cp312-cp312-manylinux_2_27_x86_64.manylinux_2_28_x86_64.whl.metadata (5.1 kB)\n",
            "Requirement already satisfied: numpy<3.0,>=1.25.0 in /usr/local/lib/python3.12/dist-packages (from faiss-cpu) (2.0.2)\n",
            "Requirement already satisfied: packaging in /usr/local/lib/python3.12/dist-packages (from faiss-cpu) (25.0)\n",
            "Downloading faiss_cpu-1.12.0-cp312-cp312-manylinux_2_27_x86_64.manylinux_2_28_x86_64.whl (31.4 MB)\n",
            "\u001b[2K   \u001b[90m━━━━━━━━━━━━━━━━━━━━━━━━━━━━━━━━━━━━━━━━\u001b[0m \u001b[32m31.4/31.4 MB\u001b[0m \u001b[31m39.1 MB/s\u001b[0m eta \u001b[36m0:00:00\u001b[0m\n",
            "\u001b[?25hInstalling collected packages: faiss-cpu\n",
            "Successfully installed faiss-cpu-1.12.0\n"
          ]
        }
      ]
    },
    {
      "metadata": {
        "id": "e223da0ab5c3aff6"
      },
      "cell_type": "code",
      "outputs": [],
      "execution_count": 29,
      "source": [
        "from google.colab import userdata\n",
        "from langchain.vectorstores import FAISS\n",
        "from langchain_google_genai import GoogleGenerativeAIEmbeddings\n",
        "from langchain.schema import Document\n",
        "llm_model = \"gemini-2.5-flash\"\n",
        "api_key = userdata.get('GOOGLE_API_KEY')"
      ],
      "id": "e223da0ab5c3aff6"
    },
    {
      "cell_type": "code",
      "source": [
        "docs = [\n",
        "    Document(page_content=d[\"pregunta\"], metadata={\"respuesta\": d[\"respuesta\"]})\n",
        "    for d in data\n",
        "]"
      ],
      "metadata": {
        "id": "69gWhncBbVcA"
      },
      "id": "69gWhncBbVcA",
      "execution_count": 30,
      "outputs": []
    },
    {
      "cell_type": "code",
      "source": [
        "embeddings = GoogleGenerativeAIEmbeddings(model=\"models/text-embedding-004\", google_api_key=api_key)"
      ],
      "metadata": {
        "id": "1grnB5zebnOY"
      },
      "id": "1grnB5zebnOY",
      "execution_count": 31,
      "outputs": []
    },
    {
      "cell_type": "code",
      "source": [
        "db = FAISS.from_documents(docs, embeddings)\n",
        "db.save_local(\"faiss_historia_peru\")"
      ],
      "metadata": {
        "id": "hyP4FunhcKWe"
      },
      "id": "hyP4FunhcKWe",
      "execution_count": 34,
      "outputs": []
    },
    {
      "cell_type": "code",
      "source": [
        "def responder(pregunta_usuario: str) -> str:\n",
        "    resultados = db.similarity_search(pregunta_usuario, k=1)\n",
        "\n",
        "    if not resultados:\n",
        "        return \"Lo siento, solo puedo responder preguntas de Historia del Perú.\"\n",
        "\n",
        "    mejor_match = resultados[0]\n",
        "    respuesta = mejor_match.metadata.get(\"respuesta\", \"No se encontró una respuesta.\")\n",
        "\n",
        "    return respuesta"
      ],
      "metadata": {
        "id": "SDvWkgRLc4MP"
      },
      "id": "SDvWkgRLc4MP",
      "execution_count": 54,
      "outputs": []
    },
    {
      "cell_type": "markdown",
      "source": [
        "### Ejemplo 1"
      ],
      "metadata": {
        "id": "PDROeeY6d15f"
      },
      "id": "PDROeeY6d15f"
    },
    {
      "cell_type": "code",
      "source": [
        "q_correcta = \"Cuando fue la independencia del peru\"\n",
        "q_incorrecta = \"Cuando fue la independensia del peru\"\n",
        "print(\"Versión correcta\")\n",
        "print(responder(q_correcta))\n",
        "print(\"Versión incorrecta\")\n",
        "print(responder(q_incorrecta))"
      ],
      "metadata": {
        "colab": {
          "base_uri": "https://localhost:8080/"
        },
        "id": "P6hqBLxsdH8G",
        "outputId": "14678d1d-4081-4e7a-af33-eea6ab8f86db"
      },
      "id": "P6hqBLxsdH8G",
      "execution_count": 55,
      "outputs": [
        {
          "output_type": "stream",
          "name": "stdout",
          "text": [
            "Versión correcta\n",
            "José de San Martín proclamó la independencia del Perú el 28 de julio de 1821 en Lima.\n",
            "Versión incorrecta\n",
            "José de San Martín proclamó la independencia del Perú el 28 de julio de 1821 en Lima.\n"
          ]
        }
      ]
    },
    {
      "cell_type": "markdown",
      "source": [
        "### Ejemplo 2"
      ],
      "metadata": {
        "id": "Kcmr_rrje-Dw"
      },
      "id": "Kcmr_rrje-Dw"
    },
    {
      "cell_type": "code",
      "source": [
        "q_correcta = \"Quien fue bolognesi\"\n",
        "q_incorrecta = \"Quien fue bologneci\"\n",
        "print(\"Versión correcta\")\n",
        "print(responder(q_correcta))\n",
        "print(\"Versión incorrecta\")\n",
        "print(responder(q_incorrecta))"
      ],
      "metadata": {
        "colab": {
          "base_uri": "https://localhost:8080/"
        },
        "id": "OL9bduO9d1HS",
        "outputId": "5a606f71-285d-4c08-ae6a-cad7fa3fbd01"
      },
      "id": "OL9bduO9d1HS",
      "execution_count": 56,
      "outputs": [
        {
          "output_type": "stream",
          "name": "stdout",
          "text": [
            "Versión correcta\n",
            "Francisco Bolognesi fue un héroe nacional que defendió Arica en 1880 diciendo: 'Tengo deberes sagrados que cumplir'.\n",
            "Versión incorrecta\n",
            "Francisco Bolognesi fue un héroe nacional que defendió Arica en 1880 diciendo: 'Tengo deberes sagrados que cumplir'.\n"
          ]
        }
      ]
    },
    {
      "cell_type": "markdown",
      "source": [
        "# P3: Extender el bot a bsuqueda de fuentes de información en la web"
      ],
      "metadata": {
        "id": "OEszG1JrffOu"
      },
      "id": "OEszG1JrffOu"
    },
    {
      "cell_type": "code",
      "source": [
        "%pip install -q langchain-community"
      ],
      "metadata": {
        "id": "X1ZhkzLzfism"
      },
      "id": "X1ZhkzLzfism",
      "execution_count": 58,
      "outputs": []
    },
    {
      "cell_type": "code",
      "source": [
        "%pip install -q -U ddgs"
      ],
      "metadata": {
        "id": "tpM6QtTIhNr-"
      },
      "id": "tpM6QtTIhNr-",
      "execution_count": 63,
      "outputs": []
    },
    {
      "cell_type": "code",
      "source": [
        "from langchain_community.tools import DuckDuckGoSearchResults"
      ],
      "metadata": {
        "id": "hQwmwYf2hAd_"
      },
      "id": "hQwmwYf2hAd_",
      "execution_count": 60,
      "outputs": []
    },
    {
      "cell_type": "code",
      "source": [
        "import re"
      ],
      "metadata": {
        "id": "cl8eJll-kFu9"
      },
      "id": "cl8eJll-kFu9",
      "execution_count": 98,
      "outputs": []
    },
    {
      "cell_type": "code",
      "source": [
        "search = DuckDuckGoSearchResults()"
      ],
      "metadata": {
        "id": "VPdtvvAsg7mP"
      },
      "id": "VPdtvvAsg7mP",
      "execution_count": 64,
      "outputs": []
    },
    {
      "cell_type": "code",
      "source": [
        "def buscar_local(pregunta):\n",
        "    resultados = db.similarity_search_with_score(pregunta, k=1)\n",
        "    if not resultados:\n",
        "        return None, 0.0\n",
        "    doc, score = resultados[0]\n",
        "    return doc.metadata.get(\"respuesta\", \"\"), score"
      ],
      "metadata": {
        "id": "CWJZHOKQhYOf"
      },
      "id": "CWJZHOKQhYOf",
      "execution_count": 65,
      "outputs": []
    },
    {
      "cell_type": "code",
      "source": [
        "def buscar_web(pregunta):\n",
        "    buscador = DuckDuckGoSearchResults(max_results=3)\n",
        "    resultados = buscador.invoke(pregunta)\n",
        "    texto = resultados[:500]\n",
        "    enlaces = re.findall(r'https?://[^\\s,]+', resultados)\n",
        "    if not enlaces:\n",
        "        enlaces = [\"https://duckduckgo.com\"]\n",
        "    return texto, enlaces"
      ],
      "metadata": {
        "id": "1NOey6fshcIw"
      },
      "id": "1NOey6fshcIw",
      "execution_count": 99,
      "outputs": []
    },
    {
      "cell_type": "code",
      "source": [
        "def responder(pregunta):\n",
        "    respuesta_local, score = buscar_local(pregunta)\n",
        "\n",
        "    if score < 0.8:\n",
        "        _,enlaces = buscar_web(pregunta)\n",
        "        enlaces_texto = \"\\n\".join([f\"{url}\" for url in enlaces])\n",
        "        return f\"{respuesta_local}\\n\\nSe encontró la respuesta en la BD local, pero te muestro algunas referencias web \\\n",
        "        \\n\\nFuentes consultadas:\\n{enlaces_texto}\"\n",
        "\n",
        "    texto_web, enlaces = buscar_web(pregunta)\n",
        "    enlaces_texto = \"\\n\".join([f\"{url}\" for url in enlaces])\n",
        "\n",
        "    return f\"{texto_web}\\n\\nFuentes consultadas:\\n{enlaces_texto}\""
      ],
      "metadata": {
        "id": "C5jq_W_8hfcv"
      },
      "id": "C5jq_W_8hfcv",
      "execution_count": 118,
      "outputs": []
    },
    {
      "cell_type": "markdown",
      "source": [
        "## Usando la BD local"
      ],
      "metadata": {
        "id": "Dd3zgoGvkhhu"
      },
      "id": "Dd3zgoGvkhhu"
    },
    {
      "cell_type": "code",
      "source": [
        "print(responder(\"Quien fue francisco pizarro\"))"
      ],
      "metadata": {
        "colab": {
          "base_uri": "https://localhost:8080/"
        },
        "id": "LU_jr83ikX_t",
        "outputId": "9dd089db-2c81-4d36-d394-4e8720c61bd6"
      },
      "id": "LU_jr83ikX_t",
      "execution_count": 114,
      "outputs": [
        {
          "output_type": "stream",
          "name": "stdout",
          "text": [
            "Francisco Pizarro fue el conquistador español que lideró la expedición que derrotó al Imperio Inca en 1532.\n",
            "\n",
            "Se encontró la respuesta en la BD local, pero te muestro algunas referencias web         \n",
            "\n",
            "Fuentes consultadas:\n",
            "https://planlea.edu.do/2025/06/quien-fue-francisco-pizarro/\n",
            "https://experiencialima.com/quien-fue-francisco-pizarro/\n",
            "https://estudyando.com/quien-fue-francisco-pizarro/\n",
            "https://www.thoughtco.com/facts-about-francisco-pizarro-2136550\n"
          ]
        }
      ]
    },
    {
      "cell_type": "markdown",
      "source": [
        "## Buscando en la web cuando no encuentra similitudes en la BD local"
      ],
      "metadata": {
        "id": "Dcu6lknjkmDN"
      },
      "id": "Dcu6lknjkmDN"
    },
    {
      "cell_type": "code",
      "source": [
        "print(responder(\"Cuando juega el real madrid\"))"
      ],
      "metadata": {
        "colab": {
          "base_uri": "https://localhost:8080/"
        },
        "id": "VcZmtM_rhiFe",
        "outputId": "2a587fd0-309e-48dd-f436-c24b95e30bc1"
      },
      "id": "VcZmtM_rhiFe",
      "execution_count": 119,
      "outputs": [
        {
          "output_type": "stream",
          "name": "stdout",
          "text": [
            "snippet: Primero que nada, a qué hora juega el Real Madrid depende mucho de la competición en la que estén participando. Por ejemplo, si es La Liga, los partidos suelen ser en horarios diferentes que los de la Champions League., title: A Qué Hora Juega El Real Madrid : Descubre El Horario Exacto Hoy, link: https://madridlive.es/a-que-hora-juega-el-real-madrid-descubre-el-horario-exacto-hoy-2, snippet: El Real Madrid consigue su billete a París en una remontada para la historia. Aunque los goles \n",
            "\n",
            "Fuentes consultadas:\n",
            "https://madridlive.es/a-que-hora-juega-el-real-madrid-descubre-el-horario-exacto-hoy-2\n",
            "https://cadenaser.com/2022/05/04/el-real-madrid-se-cuela-en-paris-con-una-remontada-para-la-historia/?primarySection=/deportes/futbol\n",
            "https://www.tiktok.com/discover/qué-tiene-que-pasar-para-el-madrid-y-quedar-entre-los-81\n",
            "https://as.com/futbol/fotorrelato/el-peor-once-historico-del-real-madrid-f/\n"
          ]
        }
      ]
    },
    {
      "cell_type": "markdown",
      "source": [
        "# P4: Implementar una interfaz"
      ],
      "metadata": {
        "id": "vmCFo_nJnVVD"
      },
      "id": "vmCFo_nJnVVD"
    },
    {
      "cell_type": "code",
      "source": [
        "from IPython.display import display, HTML\n",
        "import ipywidgets as widgets\n",
        "\n",
        "encabezado_html = \"\"\"\n",
        "<div style=\"\n",
        "    background: linear-gradient(90deg, #0057B7, #FFD700);\n",
        "    color: white;\n",
        "    padding: 15px;\n",
        "    border-radius: 10px;\n",
        "    font-family: 'Segoe UI', sans-serif;\n",
        "    box-shadow: 0 2px 6px rgba(0,0,0,0.2);\n",
        "\">\n",
        "    <h2 style=\"margin: 0; text-align: center;\">Chatbot de Historia del Perú</h2>\n",
        "    <p style=\"margin: 5px 0 0; text-align: center; font-size: 14px;\">\n",
        "        Pregunta sobre hechos históricos, personajes o eventos del Perú.\n",
        "    </p>\n",
        "</div>\n",
        "\"\"\"\n",
        "display(HTML(encabezado_html))\n",
        "\n",
        "entrada = widgets.Text(\n",
        "    value='',\n",
        "    placeholder='Escribe tu pregunta sobre el Perú aca...',\n",
        "    description='Pregunta:',\n",
        "    layout=widgets.Layout(width='100%')\n",
        ")\n",
        "\n",
        "boton = widgets.Button(\n",
        "    description='Responder',\n",
        "    button_style='info',\n",
        "    tooltip='Haz clic para obtener respuesta'\n",
        ")\n",
        "\n",
        "salida = widgets.Output()\n",
        "\n",
        "# --- Lógica del botón ---\n",
        "def al_hacer_click(b):\n",
        "    salida.clear_output()\n",
        "    pregunta = entrada.value.strip()\n",
        "    if not pregunta:\n",
        "        with salida:\n",
        "            print(\"Por favor escribe una pregunta.\")\n",
        "        return\n",
        "\n",
        "    try:\n",
        "        respuesta = responder(pregunta)\n",
        "        with salida:\n",
        "            display(HTML(f\"\"\"\n",
        "            <div style='\n",
        "                background:#f8f9fa;\n",
        "                padding:15px;\n",
        "                border-radius:8px;\n",
        "                border:1px solid #ddd;\n",
        "                font-family:Segoe UI;\n",
        "                line-height:1.5;\n",
        "            '>\n",
        "                <b>Respuesta:</b><br><br>\n",
        "                {respuesta.replace(chr(10), \"<br>\")}\n",
        "            </div>\n",
        "            \"\"\"))\n",
        "    except Exception as e:\n",
        "        with salida:\n",
        "            print(\"Oh lo siento, Ocurrió un error:\", e)\n",
        "\n",
        "boton.on_click(al_hacer_click)\n",
        "display(entrada, boton, salida)"
      ],
      "metadata": {
        "id": "PsCiR5U0tUX5"
      },
      "id": "PsCiR5U0tUX5",
      "execution_count": null,
      "outputs": []
    }
  ],
  "metadata": {
    "kernelspec": {
      "display_name": "Python 3",
      "language": "python",
      "name": "python3"
    },
    "language_info": {
      "codemirror_mode": {
        "name": "ipython",
        "version": 2
      },
      "file_extension": ".py",
      "mimetype": "text/x-python",
      "name": "python",
      "nbconvert_exporter": "python",
      "pygments_lexer": "ipython2",
      "version": "2.7.6"
    },
    "colab": {
      "provenance": [],
      "include_colab_link": true
    }
  },
  "nbformat": 4,
  "nbformat_minor": 5
}