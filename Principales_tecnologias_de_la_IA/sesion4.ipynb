{
 "cells": [
  {
   "metadata": {},
   "cell_type": "markdown",
   "source": "# Tarea NLP",
   "id": "e17af2590bc0f2d"
  },
  {
   "cell_type": "code",
   "id": "initial_id",
   "metadata": {
    "collapsed": true,
    "ExecuteTime": {
     "end_time": "2025-10-08T05:36:00.779858Z",
     "start_time": "2025-10-08T05:35:59.299896Z"
    }
   },
   "source": [
    "import json\n",
    "from sklearn.feature_extraction.text import TfidfVectorizer\n",
    "from sklearn.metrics.pairwise import cosine_similarity"
   ],
   "outputs": [],
   "execution_count": 10
  },
  {
   "metadata": {
    "ExecuteTime": {
     "end_time": "2025-10-08T05:46:09.664718Z",
     "start_time": "2025-10-08T05:46:09.643889Z"
    }
   },
   "cell_type": "code",
   "source": [
    "with open(\"conocimientos.json\", \"r\", encoding=\"utf-8\") as f:\n",
    "    data = json.load(f)"
   ],
   "id": "603f8f943a01bc14",
   "outputs": [],
   "execution_count": 19
  },
  {
   "metadata": {
    "ExecuteTime": {
     "end_time": "2025-10-08T05:46:10.853089Z",
     "start_time": "2025-10-08T05:46:10.829543Z"
    }
   },
   "cell_type": "code",
   "source": [
    "preguntas = [item[\"pregunta\"] for item in data]\n",
    "respuestas = [item[\"respuesta\"] for item in data]"
   ],
   "id": "bd312ce258d719a4",
   "outputs": [],
   "execution_count": 20
  },
  {
   "metadata": {
    "ExecuteTime": {
     "end_time": "2025-10-08T05:46:11.924495Z",
     "start_time": "2025-10-08T05:46:11.907512Z"
    }
   },
   "cell_type": "code",
   "source": [
    "vectorizador = TfidfVectorizer()\n",
    "X = vectorizador.fit_transform(preguntas)"
   ],
   "id": "458cffa981ab883b",
   "outputs": [],
   "execution_count": 21
  },
  {
   "metadata": {
    "ExecuteTime": {
     "end_time": "2025-10-08T05:46:13.487148Z",
     "start_time": "2025-10-08T05:46:13.473299Z"
    }
   },
   "cell_type": "code",
   "source": [
    "def responder(pregunta_usuario):\n",
    "    vector_usuario = vectorizador.transform([pregunta_usuario])\n",
    "    similitudes = cosine_similarity(vector_usuario, X)\n",
    "    idx = similitudes.argmax()\n",
    " # Umbral de confianza\n",
    "    if similitudes[0, idx] < 0.2:\n",
    "        return \"Lo siento, solo puedo responder preguntas de Historia del Perú.\"\n",
    "    return respuestas[idx]"
   ],
   "id": "6e8b8e3da1e35b60",
   "outputs": [],
   "execution_count": 22
  },
  {
   "metadata": {},
   "cell_type": "markdown",
   "source": "## P1: Ampliar dataset",
   "id": "9221e35208e1cdc0"
  },
  {
   "metadata": {},
   "cell_type": "markdown",
   "source": "El dataset se amplió con 100 preguntas y respuestas en total",
   "id": "8a5984084d4d0eee"
  },
  {
   "metadata": {
    "ExecuteTime": {
     "end_time": "2025-10-08T05:47:49.489242Z",
     "start_time": "2025-10-08T05:47:49.471740Z"
    }
   },
   "cell_type": "code",
   "source": "len(data)",
   "id": "9024875a1927abaf",
   "outputs": [
    {
     "data": {
      "text/plain": [
       "100"
      ]
     },
     "execution_count": 24,
     "metadata": {},
     "output_type": "execute_result"
    }
   ],
   "execution_count": 24
  },
  {
   "metadata": {},
   "cell_type": "markdown",
   "source": "## P2: Probar con preguntas ambiguas o mal escritas",
   "id": "e2ebb747445c035d"
  },
  {
   "metadata": {},
   "cell_type": "markdown",
   "source": "### Ejemplo 1 correcto",
   "id": "5a478ad4b096696"
  },
  {
   "metadata": {
    "ExecuteTime": {
     "end_time": "2025-10-08T05:49:51.260980Z",
     "start_time": "2025-10-08T05:49:51.239371Z"
    }
   },
   "cell_type": "code",
   "source": "responder(\"Cuando fue la independencia del peru\")",
   "id": "9e2fc63b6516d842",
   "outputs": [
    {
     "data": {
      "text/plain": [
       "'La independencia del Perú fue proclamada por José de San Martín el 28 de julio de 1821.'"
      ]
     },
     "execution_count": 29,
     "metadata": {},
     "output_type": "execute_result"
    }
   ],
   "execution_count": 29
  },
  {
   "metadata": {},
   "cell_type": "markdown",
   "source": "### Ejemplo 1 incorrecto",
   "id": "f18b14177f78edee"
  },
  {
   "metadata": {
    "ExecuteTime": {
     "end_time": "2025-10-08T05:51:00.473791Z",
     "start_time": "2025-10-08T05:51:00.459628Z"
    }
   },
   "cell_type": "code",
   "source": "responder(\"Cuando fue la independensia del peru\")",
   "id": "bb899186ac76ebdd",
   "outputs": [
    {
     "data": {
      "text/plain": [
       "'La esclavitud fue abolida en el Perú el 3 de diciembre de 1854 por el presidente Ramón Castilla.'"
      ]
     },
     "execution_count": 30,
     "metadata": {},
     "output_type": "execute_result"
    }
   ],
   "execution_count": 30
  },
  {
   "metadata": {},
   "cell_type": "markdown",
   "source": "### Ejemplo 2 correcto",
   "id": "fbd169a6410dd4dc"
  },
  {
   "metadata": {
    "ExecuteTime": {
     "end_time": "2025-10-08T05:51:54.079337Z",
     "start_time": "2025-10-08T05:51:54.059200Z"
    }
   },
   "cell_type": "code",
   "source": "responder(\"Quien fue bolognesi\")",
   "id": "3b82a4d2305b754f",
   "outputs": [
    {
     "data": {
      "text/plain": [
       "\"Francisco Bolognesi fue un héroe nacional que defendió Arica en 1880 diciendo: 'Tengo deberes sagrados que cumplir'.\""
      ]
     },
     "execution_count": 31,
     "metadata": {},
     "output_type": "execute_result"
    }
   ],
   "execution_count": 31
  },
  {
   "metadata": {},
   "cell_type": "markdown",
   "source": "### Ejemplo 2 incorrecto",
   "id": "22fcafc0bbd970b"
  },
  {
   "metadata": {
    "ExecuteTime": {
     "end_time": "2025-10-08T05:52:00.523492Z",
     "start_time": "2025-10-08T05:52:00.506980Z"
    }
   },
   "cell_type": "code",
   "source": "responder(\"Quien fue bologneci\")",
   "id": "351052c7f773c51e",
   "outputs": [
    {
     "data": {
      "text/plain": [
       "'Atahualpa fue el último emperador inca, capturado y ejecutado por los conquistadores españoles en 1533.'"
      ]
     },
     "execution_count": 32,
     "metadata": {},
     "output_type": "execute_result"
    }
   ],
   "execution_count": 32
  },
  {
   "metadata": {},
   "cell_type": "markdown",
   "source": [
    "Los respuestas son muy sensibles a errores ortograficos debido a que TFidVectorizer trabaja solo con coincidencias exactas de palabras.\n",
    "\n",
    "Se podría corregir con un corrector ortográfico o usando embedding semánticos"
   ],
   "id": "5a2d5d5eb68b45bf"
  },
  {
   "metadata": {},
   "cell_type": "markdown",
   "source": "### Mejora de preprocesamiento con embeddings",
   "id": "45eec7b1d5fb4cd3"
  },
  {
   "metadata": {},
   "cell_type": "code",
   "outputs": [],
   "execution_count": null,
   "source": "",
   "id": "83545d13d9ec9f4d"
  },
  {
   "metadata": {},
   "cell_type": "code",
   "outputs": [],
   "execution_count": null,
   "source": "",
   "id": "e223da0ab5c3aff6"
  }
 ],
 "metadata": {
  "kernelspec": {
   "display_name": "Python 3",
   "language": "python",
   "name": "python3"
  },
  "language_info": {
   "codemirror_mode": {
    "name": "ipython",
    "version": 2
   },
   "file_extension": ".py",
   "mimetype": "text/x-python",
   "name": "python",
   "nbconvert_exporter": "python",
   "pygments_lexer": "ipython2",
   "version": "2.7.6"
  }
 },
 "nbformat": 4,
 "nbformat_minor": 5
}
