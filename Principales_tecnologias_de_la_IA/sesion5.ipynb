{
  "cells": [
    {
      "cell_type": "markdown",
      "metadata": {
        "id": "view-in-github",
        "colab_type": "text"
      },
      "source": [
        "<a href=\"https://colab.research.google.com/github/FrogyKing/MBAIA/blob/main/Principales_tecnologias_de_la_IA/sesion5.ipynb\" target=\"_parent\"><img src=\"https://colab.research.google.com/assets/colab-badge.svg\" alt=\"Open In Colab\"/></a>"
      ]
    },
    {
      "metadata": {
        "id": "abb82056e796f8b7"
      },
      "cell_type": "markdown",
      "source": [
        "# Tarea Computer Vision\n",
        "# Alumno: Luis Gonzalez"
      ],
      "id": "abb82056e796f8b7"
    },
    {
      "cell_type": "code",
      "execution_count": 1,
      "id": "initial_id",
      "metadata": {
        "collapsed": true,
        "id": "initial_id"
      },
      "outputs": [],
      "source": [
        "!pip install transformers pillow torch torchvision --quiet"
      ]
    },
    {
      "cell_type": "code",
      "source": [
        "from transformers import pipeline\n",
        "from PIL import Image\n",
        "import os, matplotlib.pyplot as plt\n",
        "import google.generativeai as genai"
      ],
      "metadata": {
        "id": "_Og8HFA1qK3S"
      },
      "id": "_Og8HFA1qK3S",
      "execution_count": 2,
      "outputs": []
    },
    {
      "cell_type": "code",
      "source": [
        "# API DE GEMINI\n",
        "from google.colab import userdata\n",
        "import google.generativeai as genai\n",
        "API_KEY = userdata.get('GOOGLE_API_KEY')\n",
        "genai.configure(api_key=API_KEY)"
      ],
      "metadata": {
        "id": "RAhT3xiwqXts"
      },
      "id": "RAhT3xiwqXts",
      "execution_count": 3,
      "outputs": []
    },
    {
      "cell_type": "code",
      "source": [
        "clf = pipeline(\"image-classification\", model=\"google/vit-base-patch16-224\")"
      ],
      "metadata": {
        "id": "vqX-Kk82qa37"
      },
      "id": "vqX-Kk82qa37",
      "execution_count": null,
      "outputs": []
    },
    {
      "cell_type": "code",
      "source": [
        "CARPETA = \"capturas\"\n",
        "os.makedirs(CARPETA, exist_ok=True)"
      ],
      "metadata": {
        "id": "gF30ueDmqbgM"
      },
      "id": "gF30ueDmqbgM",
      "execution_count": 5,
      "outputs": []
    },
    {
      "cell_type": "code",
      "source": [
        "def obtener_forma_comun(objeto):\n",
        "    prompt = f\"\"\"\n",
        "    Dime la forma geométrica más común del objeto '{objeto}'.\n",
        "    Solo responde con una palabra entre estas:\n",
        "    ['circular', 'rectangular', 'cuadrada', 'cilíndrica', 'esférica', 'triangular', 'ovalada', 'irregular'].\n",
        "    Si el objeto no tiene una forma común definida, responde 'irregular'.\n",
        "    \"\"\"\n",
        "    model = genai.GenerativeModel(\"gemini-2.0-flash\")\n",
        "    response = model.generate_content(prompt)\n",
        "    return response.text.strip().lower()"
      ],
      "metadata": {
        "id": "OnFbYjTfqfoE"
      },
      "id": "OnFbYjTfqfoE",
      "execution_count": 6,
      "outputs": []
    },
    {
      "cell_type": "code",
      "source": [
        "def traducir_al_espanol(texto):\n",
        "    prompt = f\"Traduce al español el siguiente texto, pero solo devuelve la traducción sin explicaciones: '{texto}'\"\n",
        "    model = genai.GenerativeModel(\"gemini-2.0-flash\")\n",
        "    response = model.generate_content(prompt)\n",
        "    return response.text.strip()"
      ],
      "metadata": {
        "id": "Z5Svfz_yqjkx"
      },
      "id": "Z5Svfz_yqjkx",
      "execution_count": 7,
      "outputs": []
    },
    {
      "cell_type": "code",
      "source": [
        "def traducir_al_espanol(texto):\n",
        "    prompt = f\"Traduce al español el siguiente texto, pero solo devuelve la traducción sin explicaciones: '{texto}'\"\n",
        "    model = genai.GenerativeModel(\"gemini-2.0-flash\")\n",
        "    response = model.generate_content(prompt)\n",
        "    return response.text.strip()"
      ],
      "metadata": {
        "id": "IRdaUHImqlwA"
      },
      "id": "IRdaUHImqlwA",
      "execution_count": 8,
      "outputs": []
    },
    {
      "cell_type": "code",
      "source": [
        "def analizar_y_guardar(imagen_path, resultados):\n",
        "    image = Image.open(imagen_path)\n",
        "    preds = clf(image)\n",
        "\n",
        "    objeto_en = preds[0]['label'].split(\",\")[0].strip()\n",
        "    score = preds[0]['score']\n",
        "    objeto_es = traducir_al_espanol(objeto_en)\n",
        "    forma = obtener_forma_comun(objeto_en)\n",
        "\n",
        "    resultados.append({\n",
        "        \"imagen\": os.path.basename(imagen_path),\n",
        "        \"objeto_en\": objeto_en,\n",
        "        \"objeto_es\": objeto_es,\n",
        "        \"forma\": forma,\n",
        "        \"confianza\": score\n",
        "    })\n",
        "\n",
        "    print(f\"Imagen: {os.path.basename(imagen_path)}\")\n",
        "    print(f\"Objeto: {objeto_es} ({objeto_en})\")\n",
        "    print(f\"Forma común: {forma}\")\n",
        "    print(f\"Confianza: {score:.2%}\\n\")"
      ],
      "metadata": {
        "id": "vHzJ92zwqoI1"
      },
      "id": "vHzJ92zwqoI1",
      "execution_count": 9,
      "outputs": []
    },
    {
      "cell_type": "code",
      "source": [
        "def analizar_todas_las_imagenes(carpeta=CARPETA):\n",
        "    resultados = []\n",
        "    imagenes = [f for f in os.listdir(carpeta) if f.lower().endswith(('.jpg', '.jpeg', '.png'))]\n",
        "    if not imagenes:\n",
        "        print(\"No hay imágenes en la carpeta.\")\n",
        "        return []\n",
        "\n",
        "    print(f\"Analizando {len(imagenes)} imágenes...\\n\")\n",
        "    for img in imagenes:\n",
        "        analizar_y_guardar(os.path.join(carpeta, img), resultados)\n",
        "    print(\"Análisis completo.\")\n",
        "    return resultados"
      ],
      "metadata": {
        "id": "x3q7ktB4qo6l"
      },
      "id": "x3q7ktB4qo6l",
      "execution_count": 10,
      "outputs": []
    },
    {
      "cell_type": "code",
      "source": [
        "def mostrar_histograma(resultados):\n",
        "    if not resultados:\n",
        "        print(\"No hay resultados para graficar.\")\n",
        "        return\n",
        "    formas = [r[\"forma\"] for r in resultados]\n",
        "    plt.figure(figsize=(6,4))\n",
        "    plt.hist(formas, bins=len(set(formas)), rwidth=0.8)\n",
        "    plt.title(\"Distribución de formas detectadas\")\n",
        "    plt.xlabel(\"Forma\")\n",
        "    plt.ylabel(\"Frecuencia\")\n",
        "    plt.grid(True, alpha=0.3)\n",
        "    plt.show()"
      ],
      "metadata": {
        "id": "3iYBn6pAqsO5"
      },
      "id": "3iYBn6pAqsO5",
      "execution_count": 11,
      "outputs": []
    },
    {
      "cell_type": "code",
      "source": [
        "def limpiar_carpeta_y_resultados():\n",
        "    for f in os.listdir(CARPETA):\n",
        "        if f.lower().endswith(('.jpg', '.jpeg', '.png')):\n",
        "            os.remove(os.path.join(CARPETA, f))\n",
        "    print(\"Carpeta y resultados limpiados. Puedes subir nuevas fotos.\")"
      ],
      "metadata": {
        "id": "qkHIri75q0ia"
      },
      "id": "qkHIri75q0ia",
      "execution_count": 12,
      "outputs": []
    },
    {
      "cell_type": "code",
      "source": [
        "resultados = analizar_todas_las_imagenes()"
      ],
      "metadata": {
        "colab": {
          "base_uri": "https://localhost:8080/",
          "height": 329
        },
        "id": "Jo0srqEhq5A7",
        "outputId": "b5169ade-b804-4a28-d8f1-c71f9f4baa76"
      },
      "id": "Jo0srqEhq5A7",
      "execution_count": 13,
      "outputs": [
        {
          "output_type": "stream",
          "name": "stdout",
          "text": [
            "Analizando 3 imágenes...\n",
            "\n",
            "Imagen: WIN_20251029_19_58_01_Pro.jpg\n",
            "Objeto: Sobre (envelope)\n",
            "Forma común: rectangular\n",
            "Confianza: 77.95%\n",
            "\n",
            "Imagen: WIN_20251029_19_58_06_Pro.jpg\n",
            "Objeto: Tiritas (Band Aid)\n",
            "Forma común: ovalada\n",
            "Confianza: 21.88%\n",
            "\n",
            "Imagen: WIN_20251029_19_58_30_Pro.jpg\n",
            "Objeto: Botella de agua (water bottle)\n",
            "Forma común: cilíndrica\n",
            "Confianza: 43.39%\n",
            "\n",
            "Análisis completo.\n"
          ]
        }
      ]
    },
    {
      "cell_type": "code",
      "source": [
        "mostrar_histograma(resultados)"
      ],
      "metadata": {
        "colab": {
          "base_uri": "https://localhost:8080/",
          "height": 410
        },
        "id": "LAYZgWJ_rAGr",
        "outputId": "092069d5-a5b4-46c1-dbce-e89ba9bd63df"
      },
      "id": "LAYZgWJ_rAGr",
      "execution_count": 14,
      "outputs": [
        {
          "output_type": "display_data",
          "data": {
            "text/plain": [
              "<Figure size 600x400 with 1 Axes>"
            ],
            "image/png": "[encoded data removed]"
          },
          "metadata": {}
        }
      ]
    }
  ],
  "metadata": {
    "kernelspec": {
      "display_name": "Python 3",
      "name": "python3"
    },
    "language_info": {
      "codemirror_mode": {
        "name": "ipython",
        "version": 2
      },
      "file_extension": ".py",
      "mimetype": "text/x-python",
      "name": "python",
      "nbconvert_exporter": "python",
      "pygments_lexer": "ipython2",
      "version": "2.7.6"
    },
    "colab": {
      "provenance": [],
      "gpuType": "T4",
      "include_colab_link": true
    },
    "accelerator": "GPU"
  },
  "nbformat": 4,
  "nbformat_minor": 5
}